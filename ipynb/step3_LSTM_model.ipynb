{
 "cells": [
  {
   "cell_type": "code",
   "execution_count": 1,
   "id": "c212c96b",
   "metadata": {},
   "outputs": [],
   "source": [
    "import pandas as pd\n",
    "import numpy as np\n",
    "import tensorflow as tf\n",
    "from tensorflow.keras import layers, models\n",
    "import matplotlib.pyplot as plt"
   ]
  },
  {
   "cell_type": "code",
   "execution_count": 11,
   "id": "d5500097",
   "metadata": {},
   "outputs": [],
   "source": [
    "FEATURES = [\"open-avg_vwap\",\"cs_rank_open-avg_vwap*close-vwap\",\"corr_hv_5\",\"rank_std_high_5\"]\n",
    "TARGET = \"ret3d\"  \n",
    "L = 10\n",
    "VAL_START = pd.Timestamp(\"2024-01-01\")\n",
    "BATCH = 32\n",
    "EPOCHS = 10"
   ]
  },
  {
   "cell_type": "code",
   "execution_count": 12,
   "id": "f378a6c3",
   "metadata": {},
   "outputs": [],
   "source": [
    "df = pd.read_csv(\"withfactor.csv\")\n",
    "df = df.copy()\n",
    "df[\"日期\"] = pd.to_datetime(df[\"日期\"])\n",
    "df = df.sort_values([\"代號\",\"日期\"])"
   ]
  },
  {
   "cell_type": "code",
   "execution_count": 13,
   "id": "3c852db5",
   "metadata": {},
   "outputs": [],
   "source": [
    "feat_mean = df[FEATURES].mean()\n",
    "feat_std  = df[FEATURES].std().replace(0, 1.0)\n",
    "df[FEATURES] = (df[FEATURES] - feat_mean) / feat_std\n",
    "\n",
    "X_list, y_list, date_end, stock_end = [], [], [], []\n",
    "\n",
    "for sid, g in df.groupby(\"代號\", sort=False):\n",
    "    g = g.sort_values(\"日期\").reset_index(drop=True)\n",
    "    feat_mat = g[FEATURES].to_numpy(dtype=np.float32)\n",
    "    y_arr    = g[TARGET].to_numpy(dtype=np.float32)   \n",
    "\n",
    "    for i in range(L-1, len(g)):\n",
    "        X_seq = feat_mat[i-L+1:i+1, :]\n",
    "        y_val = y_arr[i]\n",
    "        if np.isnan(X_seq).any() or np.isnan(y_val):\n",
    "            continue\n",
    "        X_list.append(X_seq)\n",
    "        y_list.append(y_val)\n",
    "        date_end.append(g.loc[i, \"日期\"])\n",
    "        stock_end.append(sid)\n",
    "\n",
    "X    = np.array(X_list)\n",
    "y    = np.array(y_list).reshape(-1, 1)\n",
    "meta = pd.DataFrame({\"日期\": date_end, \"代號\": stock_end})\n",
    "\n",
    "is_val = meta[\"日期\"] >= VAL_START\n",
    "X_tr, y_tr = X[~is_val], y[~is_val]\n",
    "X_va, y_va = X[is_val],  y[is_val]\n",
    "meta_va    = meta[is_val].reset_index(drop=True)"
   ]
  },
  {
   "cell_type": "code",
   "execution_count": 40,
   "id": "9012d587",
   "metadata": {},
   "outputs": [
    {
     "name": "stdout",
     "output_type": "stream",
     "text": [
      "Epoch 1/10\n",
      "28166/28166 [==============================] - 77s 3ms/step - loss: -0.0425 - val_loss: -0.0184\n",
      "Epoch 2/10\n",
      "28166/28166 [==============================] - 74s 3ms/step - loss: -0.0663 - val_loss: -0.0351\n",
      "Epoch 3/10\n",
      "28166/28166 [==============================] - 75s 3ms/step - loss: -0.0833 - val_loss: -0.0229\n",
      "Epoch 4/10\n",
      "28166/28166 [==============================] - 78s 3ms/step - loss: -0.0903 - val_loss: -0.0429\n",
      "Epoch 5/10\n",
      "28166/28166 [==============================] - 79s 3ms/step - loss: -0.0938 - val_loss: -0.0419\n",
      "Epoch 6/10\n",
      "28166/28166 [==============================] - 75s 3ms/step - loss: -0.0978 - val_loss: -0.0307\n",
      "Epoch 7/10\n",
      "28166/28166 [==============================] - 76s 3ms/step - loss: -0.1005 - val_loss: -0.0389\n",
      "Epoch 8/10\n",
      "28166/28166 [==============================] - 78s 3ms/step - loss: -0.1032 - val_loss: -0.0428\n",
      "Epoch 9/10\n",
      "28166/28166 [==============================] - 78s 3ms/step - loss: -0.1059 - val_loss: -0.0318\n",
      "Epoch 10/10\n",
      "28166/28166 [==============================] - 77s 3ms/step - loss: -0.1077 - val_loss: -0.0364\n"
     ]
    },
    {
     "data": {
      "text/plain": [
       "<keras.src.callbacks.History at 0x11ea0beb850>"
      ]
     },
     "execution_count": 40,
     "metadata": {},
     "output_type": "execute_result"
    }
   ],
   "source": [
    "def sharpe_loss(y_true, y_pred):\n",
    "    pnl = y_pred * y_true\n",
    "    mean = tf.reduce_mean(pnl)\n",
    "    std = tf.math.reduce_std(pnl)\n",
    "    sharpe = mean / (std + 1e-6)\n",
    "    return -sharpe\n",
    "\n",
    "# --- LSTM 模型 ---\n",
    "def build_lstm(input_len, n_feats, units=8):\n",
    "    inp = layers.Input(shape=(input_len, n_feats))\n",
    "    x = layers.LSTM(units)(inp)          \n",
    "    x = layers.Dense(8, activation=\"relu\")(x)\n",
    "    x = layers.Dense(4, activation=\"relu\")(x)\n",
    "    out = layers.Dense(1, activation=None)(x)   \n",
    "    model = models.Model(inp, out)\n",
    "    model.compile(optimizer=tf.keras.optimizers.Adam(1e-3),\n",
    "                  loss=sharpe_loss)\n",
    "    return model\n",
    "\n",
    "model = build_lstm(input_len=L, n_feats=len(FEATURES), units=8) \n",
    "\n",
    "model.fit(X_tr, y_tr,\n",
    "          validation_data=(X_va, y_va),\n",
    "          epochs=EPOCHS, batch_size=BATCH, verbose=1)"
   ]
  },
  {
   "cell_type": "code",
   "execution_count": 41,
   "id": "878916bd",
   "metadata": {},
   "outputs": [
    {
     "name": "stdout",
     "output_type": "stream",
     "text": [
      "460/460 [==============================] - 1s 2ms/step\n"
     ]
    }
   ],
   "source": [
    "score_va = model.predict(X_va, batch_size=512).astype(\"float32\").ravel()\n",
    "\n",
    "out_va = meta_va.copy()       \n",
    "out_va[\"score\"]  = score_va\n",
    "out_va[\"target\"] = y_va.ravel()"
   ]
  },
  {
   "cell_type": "code",
   "execution_count": 42,
   "id": "ef18b799",
   "metadata": {},
   "outputs": [
    {
     "data": {
      "text/plain": [
       "array([ 0.6871952 ,  1.0734582 ,  1.0263621 , ..., -0.8082708 ,\n",
       "       -0.70765936, -0.35753584], dtype=float32)"
      ]
     },
     "execution_count": 42,
     "metadata": {},
     "output_type": "execute_result"
    }
   ],
   "source": [
    "score_va"
   ]
  },
  {
   "cell_type": "code",
   "execution_count": 44,
   "id": "b9e5c89c",
   "metadata": {},
   "outputs": [
    {
     "name": "stdout",
     "output_type": "stream",
     "text": [
      "Win rate: 52.72%\n",
      "Sharpe (ann.): 1.225\n",
      "Max drawdown: -25.27%\n"
     ]
    },
    {
     "data": {
      "image/png": "[encoded data removed]",
      "text/plain": [
       "<Figure size 800x400 with 1 Axes>"
      ]
     },
     "metadata": {},
     "output_type": "display_data"
    }
   ],
   "source": [
    "CAPITAL = 1_000_000         \n",
    "COST_BPS = 15\n",
    "LONG_N  = 0   \n",
    "SHORT_N = 5  \n",
    "\n",
    "daily = out_va.sort_values([\"日期\",\"score\"], ascending=[True, False]).copy()\n",
    "def make_weights(g):\n",
    "    g = g.drop_duplicates(\"代號\")\n",
    "    frames = []\n",
    "\n",
    "    if LONG_N > 0:\n",
    "        long_ids = g.head(LONG_N)[\"代號\"]\n",
    "        frames.append(pd.DataFrame({\"代號\": long_ids, \"w\":  1.0 / LONG_N}))\n",
    "    if SHORT_N > 0:\n",
    "        short_ids = g.tail(SHORT_N)[\"代號\"]\n",
    "        frames.append(pd.DataFrame({\"代號\": short_ids, \"w\": -1.0 / SHORT_N}))\n",
    "\n",
    "    if not frames:\n",
    "        return pd.DataFrame(columns=[\"代號\",\"w\",\"日期\"])\n",
    "\n",
    "    w = (pd.concat(frames, ignore_index=True)\n",
    "           .groupby(\"代號\", as_index=False)[\"w\"].sum())\n",
    "    w[\"日期\"] = g[\"日期\"].iloc[0]\n",
    "    return w\n",
    "\n",
    "w_df = daily.groupby(\"日期\", group_keys=False).apply(make_weights).reset_index(drop=True)\n",
    "w_df = w_df.groupby([\"日期\",\"代號\"], as_index=False)[\"w\"].sum()\n",
    "w_wide = (w_df.pivot_table(index=\"日期\", columns=\"代號\", values=\"w\",\n",
    "                           aggfunc=\"sum\", fill_value=0.0)\n",
    "          .sort_index())\n",
    "\n",
    "ret_wide = (out_va[[\"日期\",\"代號\",\"target\"]].drop_duplicates()\n",
    "            .pivot_table(index=\"日期\", columns=\"代號\", values=\"target\", aggfunc=\"first\"))\n",
    "ret_wide = ret_wide.reindex_like(w_wide).fillna(0.0)\n",
    "\n",
    "# PnL & Fees\n",
    "fee_unit = COST_BPS / 10000.0 \n",
    "gross_pnl_series = (w_wide * ret_wide).sum(axis=1) * CAPITAL\n",
    "fee_amt_series = (w_wide.abs().sum(axis=1) * (2 * fee_unit) * CAPITAL)\n",
    "net_pnl_series = gross_pnl_series - fee_amt_series\n",
    "\n",
    "\n",
    "\n",
    "# win rate / Sharpe / MaxDD（用淨報酬率）\n",
    "net_ret_series = net_pnl_series / CAPITAL\n",
    "win_rate = (net_ret_series > 0).mean()\n",
    "avg = net_ret_series.mean()\n",
    "std = net_ret_series.std(ddof=1)\n",
    "sharpe = (avg / (std + 1e-12)) * np.sqrt(252)\n",
    "cum = (1 + net_ret_series).cumprod()\n",
    "max_dd = (cum / cum.cummax() - 1).min()\n",
    "\n",
    "print(f\"Win rate: {win_rate:.2%}\")\n",
    "print(f\"Sharpe (ann.): {sharpe:.3f}\")\n",
    "print(f\"Max drawdown: {max_dd:.2%}\")\n",
    "\n",
    "# 視覺化\n",
    "plt.figure(figsize=(8,4))\n",
    "cum.plot()\n",
    "plt.title(\" Trend Chart \")\n",
    "plt.xlabel(\"Date\"); plt.ylabel(\"Cumulative Return\")\n",
    "plt.tight_layout(); plt.show()"
   ]
  },
  {
   "cell_type": "code",
   "execution_count": null,
   "id": "73c1b2cd",
   "metadata": {},
   "outputs": [],
   "source": []
  }
 ],
 "metadata": {
  "kernelspec": {
   "display_name": "Python 3.8 (py38)",
   "language": "python",
   "name": "py38"
  },
  "language_info": {
   "codemirror_mode": {
    "name": "ipython",
    "version": 3
   },
   "file_extension": ".py",
   "mimetype": "text/x-python",
   "name": "python",
   "nbconvert_exporter": "python",
   "pygments_lexer": "ipython3",
   "version": "3.8.20"
  }
 },
 "nbformat": 4,
 "nbformat_minor": 5
}
